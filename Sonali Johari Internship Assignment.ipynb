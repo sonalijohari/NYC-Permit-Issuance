{
 "cells": [
  {
   "cell_type": "markdown",
   "metadata": {},
   "source": [
    "Importing the required libraries"
   ]
  },
  {
   "cell_type": "code",
   "execution_count": 1,
   "metadata": {},
   "outputs": [],
   "source": [
    "import pandas as pd\n",
    "import matplotlib.pyplot as plt\n",
    "import seaborn as sns\n",
    "import numpy as np\n",
    "from scipy.stats import norm\n",
    "from sklearn.preprocessing import StandardScaler\n",
    "from scipy import stats\n",
    "\n",
    "\n",
    "import warnings\n",
    "warnings.filterwarnings('ignore')\n",
    "%matplotlib inline"
   ]
  },
  {
   "cell_type": "markdown",
   "metadata": {},
   "source": [
    "Load the dataset into df using pandas"
   ]
  },
  {
   "cell_type": "code",
   "execution_count": 2,
   "metadata": {},
   "outputs": [],
   "source": [
    "df = pd.read_csv('/Users/sonalijohari/Downloads/DOB_Permit_Issuance.csv')"
   ]
  },
  {
   "cell_type": "code",
   "execution_count": 3,
   "metadata": {},
   "outputs": [
    {
     "name": "stdout",
     "output_type": "stream",
     "text": [
      "There are 3510723 rows and 60 columns in this dataset\n"
     ]
    }
   ],
   "source": [
    "nRow, nCol = df.shape\n",
    "print('There are '+str(nRow)+ ' rows and '+str(nCol)+ ' columns in this dataset')"
   ]
  },
  {
   "cell_type": "markdown",
   "metadata": {},
   "source": [
    "Lets have a look at the top 15 rows of our dataset"
   ]
  },
  {
   "cell_type": "code",
   "execution_count": 4,
   "metadata": {},
   "outputs": [
    {
     "data": {
      "text/html": [
       "<div>\n",
       "<style scoped>\n",
       "    .dataframe tbody tr th:only-of-type {\n",
       "        vertical-align: middle;\n",
       "    }\n",
       "\n",
       "    .dataframe tbody tr th {\n",
       "        vertical-align: top;\n",
       "    }\n",
       "\n",
       "    .dataframe thead th {\n",
       "        text-align: right;\n",
       "    }\n",
       "</style>\n",
       "<table border=\"1\" class=\"dataframe\">\n",
       "  <thead>\n",
       "    <tr style=\"text-align: right;\">\n",
       "      <th></th>\n",
       "      <th>BOROUGH</th>\n",
       "      <th>Bin #</th>\n",
       "      <th>House #</th>\n",
       "      <th>Street Name</th>\n",
       "      <th>Job #</th>\n",
       "      <th>Job doc. #</th>\n",
       "      <th>Job Type</th>\n",
       "      <th>Self_Cert</th>\n",
       "      <th>Block</th>\n",
       "      <th>Lot</th>\n",
       "      <th>...</th>\n",
       "      <th>Owner’s House State</th>\n",
       "      <th>Owner’s House Zip Code</th>\n",
       "      <th>Owner's Phone #</th>\n",
       "      <th>DOBRunDate</th>\n",
       "      <th>PERMIT_SI_NO</th>\n",
       "      <th>LATITUDE</th>\n",
       "      <th>LONGITUDE</th>\n",
       "      <th>COUNCIL_DISTRICT</th>\n",
       "      <th>CENSUS_TRACT</th>\n",
       "      <th>NTA_NAME</th>\n",
       "    </tr>\n",
       "  </thead>\n",
       "  <tbody>\n",
       "    <tr>\n",
       "      <th>0</th>\n",
       "      <td>BROOKLYN</td>\n",
       "      <td>3052111</td>\n",
       "      <td>357</td>\n",
       "      <td>JEFFERSON AVENUE</td>\n",
       "      <td>321452432</td>\n",
       "      <td>1</td>\n",
       "      <td>A2</td>\n",
       "      <td>Y</td>\n",
       "      <td>1830</td>\n",
       "      <td>73</td>\n",
       "      <td>...</td>\n",
       "      <td>NY</td>\n",
       "      <td>11213</td>\n",
       "      <td>7.18454e+09</td>\n",
       "      <td>03/30/2019 12:00:00 AM</td>\n",
       "      <td>3303889</td>\n",
       "      <td>40.684069</td>\n",
       "      <td>-73.943284</td>\n",
       "      <td>36.0</td>\n",
       "      <td>267.0</td>\n",
       "      <td>Bedford</td>\n",
       "    </tr>\n",
       "    <tr>\n",
       "      <th>1</th>\n",
       "      <td>BRONX</td>\n",
       "      <td>2007654</td>\n",
       "      <td>1985</td>\n",
       "      <td>CRESTON AVENUE</td>\n",
       "      <td>240209038</td>\n",
       "      <td>1</td>\n",
       "      <td>A2</td>\n",
       "      <td>Y</td>\n",
       "      <td>2807</td>\n",
       "      <td>22</td>\n",
       "      <td>...</td>\n",
       "      <td>NY</td>\n",
       "      <td>10453</td>\n",
       "      <td>7.18584e+09</td>\n",
       "      <td>03/30/2019 12:00:00 AM</td>\n",
       "      <td>3611462</td>\n",
       "      <td>40.851002</td>\n",
       "      <td>-73.906428</td>\n",
       "      <td>14.0</td>\n",
       "      <td>241.0</td>\n",
       "      <td>Mount Hope</td>\n",
       "    </tr>\n",
       "    <tr>\n",
       "      <th>2</th>\n",
       "      <td>BRONX</td>\n",
       "      <td>2007654</td>\n",
       "      <td>1985</td>\n",
       "      <td>CRESTON AVENUE</td>\n",
       "      <td>240209038</td>\n",
       "      <td>1</td>\n",
       "      <td>A2</td>\n",
       "      <td>Y</td>\n",
       "      <td>2807</td>\n",
       "      <td>22</td>\n",
       "      <td>...</td>\n",
       "      <td>NY</td>\n",
       "      <td>10453</td>\n",
       "      <td>7.18584e+09</td>\n",
       "      <td>03/30/2019 12:00:00 AM</td>\n",
       "      <td>3611461</td>\n",
       "      <td>40.851002</td>\n",
       "      <td>-73.906428</td>\n",
       "      <td>14.0</td>\n",
       "      <td>241.0</td>\n",
       "      <td>Mount Hope</td>\n",
       "    </tr>\n",
       "    <tr>\n",
       "      <th>3</th>\n",
       "      <td>QUEENS</td>\n",
       "      <td>4050421</td>\n",
       "      <td>62-60</td>\n",
       "      <td>99TH STREET</td>\n",
       "      <td>440531293</td>\n",
       "      <td>1</td>\n",
       "      <td>A2</td>\n",
       "      <td>Y</td>\n",
       "      <td>2086</td>\n",
       "      <td>40</td>\n",
       "      <td>...</td>\n",
       "      <td>NY</td>\n",
       "      <td>10022</td>\n",
       "      <td>6.46442e+09</td>\n",
       "      <td>03/30/2019 12:00:00 AM</td>\n",
       "      <td>3611460</td>\n",
       "      <td>40.733469</td>\n",
       "      <td>-73.857560</td>\n",
       "      <td>29.0</td>\n",
       "      <td>71701.0</td>\n",
       "      <td>Rego Park</td>\n",
       "    </tr>\n",
       "    <tr>\n",
       "      <th>4</th>\n",
       "      <td>BRONX</td>\n",
       "      <td>2007668</td>\n",
       "      <td>2042</td>\n",
       "      <td>MORRIS AVENUE</td>\n",
       "      <td>240209065</td>\n",
       "      <td>1</td>\n",
       "      <td>A2</td>\n",
       "      <td>Y</td>\n",
       "      <td>2807</td>\n",
       "      <td>56</td>\n",
       "      <td>...</td>\n",
       "      <td>NY</td>\n",
       "      <td>10453</td>\n",
       "      <td>7.18584e+09</td>\n",
       "      <td>03/30/2019 12:00:00 AM</td>\n",
       "      <td>3611459</td>\n",
       "      <td>40.852966</td>\n",
       "      <td>-73.905756</td>\n",
       "      <td>14.0</td>\n",
       "      <td>241.0</td>\n",
       "      <td>Mount Hope</td>\n",
       "    </tr>\n",
       "    <tr>\n",
       "      <th>5</th>\n",
       "      <td>BRONX</td>\n",
       "      <td>2023487</td>\n",
       "      <td>1056</td>\n",
       "      <td>BOYNTON AVENUE</td>\n",
       "      <td>240224093</td>\n",
       "      <td>1</td>\n",
       "      <td>A2</td>\n",
       "      <td>N</td>\n",
       "      <td>3715</td>\n",
       "      <td>30</td>\n",
       "      <td>...</td>\n",
       "      <td>NY</td>\n",
       "      <td>11214</td>\n",
       "      <td>9.17216e+09</td>\n",
       "      <td>03/30/2019 12:00:00 AM</td>\n",
       "      <td>3596581</td>\n",
       "      <td>40.825924</td>\n",
       "      <td>-73.877589</td>\n",
       "      <td>18.0</td>\n",
       "      <td>5001.0</td>\n",
       "      <td>Soundview-Bruckner</td>\n",
       "    </tr>\n",
       "    <tr>\n",
       "      <th>6</th>\n",
       "      <td>BROOKLYN</td>\n",
       "      <td>3155940</td>\n",
       "      <td>220</td>\n",
       "      <td>MARINE AVE</td>\n",
       "      <td>321742744</td>\n",
       "      <td>1</td>\n",
       "      <td>A2</td>\n",
       "      <td>N</td>\n",
       "      <td>6129</td>\n",
       "      <td>63</td>\n",
       "      <td>...</td>\n",
       "      <td>NY</td>\n",
       "      <td>11209</td>\n",
       "      <td>7.18746e+09</td>\n",
       "      <td>03/30/2019 12:00:00 AM</td>\n",
       "      <td>3611381</td>\n",
       "      <td>40.615222</td>\n",
       "      <td>-74.034812</td>\n",
       "      <td>43.0</td>\n",
       "      <td>5601.0</td>\n",
       "      <td>Bay Ridge</td>\n",
       "    </tr>\n",
       "    <tr>\n",
       "      <th>7</th>\n",
       "      <td>BROOKLYN</td>\n",
       "      <td>3115250</td>\n",
       "      <td>280</td>\n",
       "      <td>MIDWOOD STREET</td>\n",
       "      <td>322067721</td>\n",
       "      <td>2</td>\n",
       "      <td>A2</td>\n",
       "      <td>Y</td>\n",
       "      <td>5036</td>\n",
       "      <td>32</td>\n",
       "      <td>...</td>\n",
       "      <td>NY</td>\n",
       "      <td>11225</td>\n",
       "      <td>7.18502e+09</td>\n",
       "      <td>03/30/2019 12:00:00 AM</td>\n",
       "      <td>3611691</td>\n",
       "      <td>40.660047</td>\n",
       "      <td>-73.951580</td>\n",
       "      <td>40.0</td>\n",
       "      <td>800.0</td>\n",
       "      <td>Prospect Lefferts Gardens-Wingate</td>\n",
       "    </tr>\n",
       "    <tr>\n",
       "      <th>8</th>\n",
       "      <td>MANHATTAN</td>\n",
       "      <td>1038544</td>\n",
       "      <td>216</td>\n",
       "      <td>EAST 53 STREET</td>\n",
       "      <td>122955052</td>\n",
       "      <td>1</td>\n",
       "      <td>A2</td>\n",
       "      <td>N</td>\n",
       "      <td>1326</td>\n",
       "      <td>41</td>\n",
       "      <td>...</td>\n",
       "      <td>NY</td>\n",
       "      <td>10016</td>\n",
       "      <td>9.17588e+09</td>\n",
       "      <td>03/30/2019 12:00:00 AM</td>\n",
       "      <td>3611614</td>\n",
       "      <td>40.757446</td>\n",
       "      <td>-73.968806</td>\n",
       "      <td>4.0</td>\n",
       "      <td>98.0</td>\n",
       "      <td>Turtle Bay-East Midtown</td>\n",
       "    </tr>\n",
       "    <tr>\n",
       "      <th>9</th>\n",
       "      <td>BRONX</td>\n",
       "      <td>2007668</td>\n",
       "      <td>2042</td>\n",
       "      <td>MORRIS AVENUE</td>\n",
       "      <td>240209065</td>\n",
       "      <td>1</td>\n",
       "      <td>A2</td>\n",
       "      <td>Y</td>\n",
       "      <td>2807</td>\n",
       "      <td>56</td>\n",
       "      <td>...</td>\n",
       "      <td>NY</td>\n",
       "      <td>10453</td>\n",
       "      <td>7.18584e+09</td>\n",
       "      <td>03/30/2019 12:00:00 AM</td>\n",
       "      <td>3611458</td>\n",
       "      <td>40.852966</td>\n",
       "      <td>-73.905756</td>\n",
       "      <td>14.0</td>\n",
       "      <td>241.0</td>\n",
       "      <td>Mount Hope</td>\n",
       "    </tr>\n",
       "    <tr>\n",
       "      <th>10</th>\n",
       "      <td>MANHATTAN</td>\n",
       "      <td>1053026</td>\n",
       "      <td>426</td>\n",
       "      <td>EAST 115TH STREET</td>\n",
       "      <td>140563343</td>\n",
       "      <td>1</td>\n",
       "      <td>A2</td>\n",
       "      <td>Y</td>\n",
       "      <td>1708</td>\n",
       "      <td>36</td>\n",
       "      <td>...</td>\n",
       "      <td>NY</td>\n",
       "      <td>10029</td>\n",
       "      <td>2.12861e+09</td>\n",
       "      <td>03/30/2019 12:00:00 AM</td>\n",
       "      <td>3611612</td>\n",
       "      <td>40.794991</td>\n",
       "      <td>-73.935157</td>\n",
       "      <td>8.0</td>\n",
       "      <td>178.0</td>\n",
       "      <td>East Harlem North</td>\n",
       "    </tr>\n",
       "    <tr>\n",
       "      <th>11</th>\n",
       "      <td>MANHATTAN</td>\n",
       "      <td>1031443</td>\n",
       "      <td>65</td>\n",
       "      <td>WEST 87TH STREET</td>\n",
       "      <td>123662116</td>\n",
       "      <td>1</td>\n",
       "      <td>A2</td>\n",
       "      <td>Y</td>\n",
       "      <td>1201</td>\n",
       "      <td>2</td>\n",
       "      <td>...</td>\n",
       "      <td>NY</td>\n",
       "      <td>10024</td>\n",
       "      <td>9.17623e+09</td>\n",
       "      <td>03/30/2019 12:00:00 AM</td>\n",
       "      <td>3611755</td>\n",
       "      <td>40.786702</td>\n",
       "      <td>-73.970562</td>\n",
       "      <td>6.0</td>\n",
       "      <td>173.0</td>\n",
       "      <td>Upper West Side</td>\n",
       "    </tr>\n",
       "    <tr>\n",
       "      <th>12</th>\n",
       "      <td>BROOKLYN</td>\n",
       "      <td>3080287</td>\n",
       "      <td>1801</td>\n",
       "      <td>BROADWAY</td>\n",
       "      <td>321568683</td>\n",
       "      <td>1</td>\n",
       "      <td>NB</td>\n",
       "      <td>N</td>\n",
       "      <td>3456</td>\n",
       "      <td>2</td>\n",
       "      <td>...</td>\n",
       "      <td>NY</td>\n",
       "      <td>11432</td>\n",
       "      <td>7.18387e+09</td>\n",
       "      <td>03/30/2019 12:00:00 AM</td>\n",
       "      <td>3611611</td>\n",
       "      <td>40.681883</td>\n",
       "      <td>-73.908641</td>\n",
       "      <td>37.0</td>\n",
       "      <td>403.0</td>\n",
       "      <td>Bushwick South</td>\n",
       "    </tr>\n",
       "    <tr>\n",
       "      <th>13</th>\n",
       "      <td>MANHATTAN</td>\n",
       "      <td>1042844</td>\n",
       "      <td>1010</td>\n",
       "      <td>LEXINGTON AVENUE</td>\n",
       "      <td>123599141</td>\n",
       "      <td>1</td>\n",
       "      <td>A2</td>\n",
       "      <td>Y</td>\n",
       "      <td>1407</td>\n",
       "      <td>16</td>\n",
       "      <td>...</td>\n",
       "      <td>NY</td>\n",
       "      <td>10017</td>\n",
       "      <td>2.12509e+09</td>\n",
       "      <td>03/30/2019 12:00:00 AM</td>\n",
       "      <td>3611610</td>\n",
       "      <td>40.770747</td>\n",
       "      <td>-73.961987</td>\n",
       "      <td>4.0</td>\n",
       "      <td>128.0</td>\n",
       "      <td>Upper East Side-Carnegie Hill</td>\n",
       "    </tr>\n",
       "    <tr>\n",
       "      <th>14</th>\n",
       "      <td>STATEN ISLAND</td>\n",
       "      <td>5050618</td>\n",
       "      <td>17</td>\n",
       "      <td>DONGAN HILLS AVE</td>\n",
       "      <td>520336468</td>\n",
       "      <td>1</td>\n",
       "      <td>A2</td>\n",
       "      <td>N</td>\n",
       "      <td>3531</td>\n",
       "      <td>54</td>\n",
       "      <td>...</td>\n",
       "      <td>NY</td>\n",
       "      <td>11201</td>\n",
       "      <td>7.18422e+09</td>\n",
       "      <td>03/30/2019 12:00:00 AM</td>\n",
       "      <td>3611382</td>\n",
       "      <td>40.588478</td>\n",
       "      <td>-74.101550</td>\n",
       "      <td>50.0</td>\n",
       "      <td>11401.0</td>\n",
       "      <td>Old Town-Dongan Hills-South Beach</td>\n",
       "    </tr>\n",
       "  </tbody>\n",
       "</table>\n",
       "<p>15 rows × 60 columns</p>\n",
       "</div>"
      ],
      "text/plain": [
       "          BOROUGH    Bin # House #        Street Name      Job #  Job doc. #  \\\n",
       "0        BROOKLYN  3052111     357   JEFFERSON AVENUE  321452432           1   \n",
       "1           BRONX  2007654    1985     CRESTON AVENUE  240209038           1   \n",
       "2           BRONX  2007654    1985     CRESTON AVENUE  240209038           1   \n",
       "3          QUEENS  4050421   62-60        99TH STREET  440531293           1   \n",
       "4           BRONX  2007668    2042      MORRIS AVENUE  240209065           1   \n",
       "5           BRONX  2023487    1056     BOYNTON AVENUE  240224093           1   \n",
       "6        BROOKLYN  3155940     220         MARINE AVE  321742744           1   \n",
       "7        BROOKLYN  3115250     280     MIDWOOD STREET  322067721           2   \n",
       "8       MANHATTAN  1038544     216     EAST 53 STREET  122955052           1   \n",
       "9           BRONX  2007668    2042      MORRIS AVENUE  240209065           1   \n",
       "10      MANHATTAN  1053026     426  EAST 115TH STREET  140563343           1   \n",
       "11      MANHATTAN  1031443      65   WEST 87TH STREET  123662116           1   \n",
       "12       BROOKLYN  3080287    1801           BROADWAY  321568683           1   \n",
       "13      MANHATTAN  1042844    1010   LEXINGTON AVENUE  123599141           1   \n",
       "14  STATEN ISLAND  5050618      17   DONGAN HILLS AVE  520336468           1   \n",
       "\n",
       "   Job Type Self_Cert Block Lot                ...                  \\\n",
       "0        A2         Y  1830  73                ...                   \n",
       "1        A2         Y  2807  22                ...                   \n",
       "2        A2         Y  2807  22                ...                   \n",
       "3        A2         Y  2086  40                ...                   \n",
       "4        A2         Y  2807  56                ...                   \n",
       "5        A2         N  3715  30                ...                   \n",
       "6        A2         N  6129  63                ...                   \n",
       "7        A2         Y  5036  32                ...                   \n",
       "8        A2         N  1326  41                ...                   \n",
       "9        A2         Y  2807  56                ...                   \n",
       "10       A2         Y  1708  36                ...                   \n",
       "11       A2         Y  1201   2                ...                   \n",
       "12       NB         N  3456   2                ...                   \n",
       "13       A2         Y  1407  16                ...                   \n",
       "14       A2         N  3531  54                ...                   \n",
       "\n",
       "   Owner’s House State  Owner’s House Zip Code  Owner's Phone #  \\\n",
       "0                   NY                   11213      7.18454e+09   \n",
       "1                   NY                   10453      7.18584e+09   \n",
       "2                   NY                   10453      7.18584e+09   \n",
       "3                   NY                   10022      6.46442e+09   \n",
       "4                   NY                   10453      7.18584e+09   \n",
       "5                   NY                   11214      9.17216e+09   \n",
       "6                   NY                   11209      7.18746e+09   \n",
       "7                   NY                   11225      7.18502e+09   \n",
       "8                   NY                   10016      9.17588e+09   \n",
       "9                   NY                   10453      7.18584e+09   \n",
       "10                  NY                   10029      2.12861e+09   \n",
       "11                  NY                   10024      9.17623e+09   \n",
       "12                  NY                   11432      7.18387e+09   \n",
       "13                  NY                   10017      2.12509e+09   \n",
       "14                  NY                   11201      7.18422e+09   \n",
       "\n",
       "                DOBRunDate PERMIT_SI_NO   LATITUDE  LONGITUDE  \\\n",
       "0   03/30/2019 12:00:00 AM      3303889  40.684069 -73.943284   \n",
       "1   03/30/2019 12:00:00 AM      3611462  40.851002 -73.906428   \n",
       "2   03/30/2019 12:00:00 AM      3611461  40.851002 -73.906428   \n",
       "3   03/30/2019 12:00:00 AM      3611460  40.733469 -73.857560   \n",
       "4   03/30/2019 12:00:00 AM      3611459  40.852966 -73.905756   \n",
       "5   03/30/2019 12:00:00 AM      3596581  40.825924 -73.877589   \n",
       "6   03/30/2019 12:00:00 AM      3611381  40.615222 -74.034812   \n",
       "7   03/30/2019 12:00:00 AM      3611691  40.660047 -73.951580   \n",
       "8   03/30/2019 12:00:00 AM      3611614  40.757446 -73.968806   \n",
       "9   03/30/2019 12:00:00 AM      3611458  40.852966 -73.905756   \n",
       "10  03/30/2019 12:00:00 AM      3611612  40.794991 -73.935157   \n",
       "11  03/30/2019 12:00:00 AM      3611755  40.786702 -73.970562   \n",
       "12  03/30/2019 12:00:00 AM      3611611  40.681883 -73.908641   \n",
       "13  03/30/2019 12:00:00 AM      3611610  40.770747 -73.961987   \n",
       "14  03/30/2019 12:00:00 AM      3611382  40.588478 -74.101550   \n",
       "\n",
       "   COUNCIL_DISTRICT CENSUS_TRACT                           NTA_NAME  \n",
       "0              36.0        267.0                            Bedford  \n",
       "1              14.0        241.0                         Mount Hope  \n",
       "2              14.0        241.0                         Mount Hope  \n",
       "3              29.0      71701.0                          Rego Park  \n",
       "4              14.0        241.0                         Mount Hope  \n",
       "5              18.0       5001.0                 Soundview-Bruckner  \n",
       "6              43.0       5601.0                          Bay Ridge  \n",
       "7              40.0        800.0  Prospect Lefferts Gardens-Wingate  \n",
       "8               4.0         98.0            Turtle Bay-East Midtown  \n",
       "9              14.0        241.0                         Mount Hope  \n",
       "10              8.0        178.0                  East Harlem North  \n",
       "11              6.0        173.0                    Upper West Side  \n",
       "12             37.0        403.0                     Bushwick South  \n",
       "13              4.0        128.0      Upper East Side-Carnegie Hill  \n",
       "14             50.0      11401.0  Old Town-Dongan Hills-South Beach  \n",
       "\n",
       "[15 rows x 60 columns]"
      ]
     },
     "execution_count": 4,
     "metadata": {},
     "output_type": "execute_result"
    }
   ],
   "source": [
    "df.head(15)"
   ]
  },
  {
   "cell_type": "code",
   "execution_count": 5,
   "metadata": {},
   "outputs": [
    {
     "data": {
      "text/plain": [
       "Index(['BOROUGH', 'Bin #', 'House #', 'Street Name', 'Job #', 'Job doc. #',\n",
       "       'Job Type', 'Self_Cert', 'Block', 'Lot', 'Community Board', 'Zip Code',\n",
       "       'Bldg Type', 'Residential', 'Special District 1', 'Special District 2',\n",
       "       'Work Type', 'Permit Status', 'Filing Status', 'Permit Type',\n",
       "       'Permit Sequence #', 'Permit Subtype', 'Oil Gas', 'Site Fill',\n",
       "       'Filing Date', 'Issuance Date', 'Expiration Date', 'Job Start Date',\n",
       "       'Permittee's First Name', 'Permittee's Last Name',\n",
       "       'Permittee's Business Name', 'Permittee's Phone #',\n",
       "       'Permittee's License Type', 'Permittee's License #',\n",
       "       'Act as Superintendent', 'Permittee's Other Title', 'HIC License',\n",
       "       'Site Safety Mgr's First Name', 'Site Safety Mgr's Last Name',\n",
       "       'Site Safety Mgr Business Name', 'Superintendent First & Last Name',\n",
       "       'Superintendent Business Name', 'Owner's Business Type', 'Non-Profit',\n",
       "       'Owner's Business Name', 'Owner's First Name', 'Owner's Last Name',\n",
       "       'Owner's House #', 'Owner's House Street Name', 'Owner’s House City',\n",
       "       'Owner’s House State', 'Owner’s House Zip Code', 'Owner's Phone #',\n",
       "       'DOBRunDate', 'PERMIT_SI_NO', 'LATITUDE', 'LONGITUDE',\n",
       "       'COUNCIL_DISTRICT', 'CENSUS_TRACT', 'NTA_NAME'],\n",
       "      dtype='object')"
      ]
     },
     "execution_count": 5,
     "metadata": {},
     "output_type": "execute_result"
    }
   ],
   "source": [
    "df.columns"
   ]
  },
  {
   "cell_type": "code",
   "execution_count": 6,
   "metadata": {},
   "outputs": [
    {
     "name": "stdout",
     "output_type": "stream",
     "text": [
      "<class 'pandas.core.frame.DataFrame'>\n",
      "RangeIndex: 3510723 entries, 0 to 3510722\n",
      "Data columns (total 60 columns):\n",
      "BOROUGH                             object\n",
      "Bin #                               object\n",
      "House #                             object\n",
      "Street Name                         object\n",
      "Job #                               int64\n",
      "Job doc. #                          int64\n",
      "Job Type                            object\n",
      "Self_Cert                           object\n",
      "Block                               object\n",
      "Lot                                 object\n",
      "Community Board                     object\n",
      "Zip Code                            float64\n",
      "Bldg Type                           float64\n",
      "Residential                         object\n",
      "Special District 1                  object\n",
      "Special District 2                  object\n",
      "Work Type                           object\n",
      "Permit Status                       object\n",
      "Filing Status                       object\n",
      "Permit Type                         object\n",
      "Permit Sequence #                   int64\n",
      "Permit Subtype                      object\n",
      "Oil Gas                             object\n",
      "Site Fill                           object\n",
      "Filing Date                         object\n",
      "Issuance Date                       object\n",
      "Expiration Date                     object\n",
      "Job Start Date                      object\n",
      "Permittee's First Name              object\n",
      "Permittee's Last Name               object\n",
      "Permittee's Business Name           object\n",
      "Permittee's Phone #                 object\n",
      "Permittee's License Type            object\n",
      "Permittee's License #               object\n",
      "Act as Superintendent               object\n",
      "Permittee's Other Title             object\n",
      "HIC License                         object\n",
      "Site Safety Mgr's First Name        object\n",
      "Site Safety Mgr's Last Name         object\n",
      "Site Safety Mgr Business Name       object\n",
      "Superintendent First & Last Name    object\n",
      "Superintendent Business Name        object\n",
      "Owner's Business Type               object\n",
      "Non-Profit                          object\n",
      "Owner's Business Name               object\n",
      "Owner's First Name                  object\n",
      "Owner's Last Name                   object\n",
      "Owner's House #                     object\n",
      "Owner's House Street Name           object\n",
      "Owner’s House City                  object\n",
      "Owner’s House State                 object\n",
      "Owner’s House Zip Code              object\n",
      "Owner's Phone #                     object\n",
      "DOBRunDate                          object\n",
      "PERMIT_SI_NO                        int64\n",
      "LATITUDE                            float64\n",
      "LONGITUDE                           float64\n",
      "COUNCIL_DISTRICT                    float64\n",
      "CENSUS_TRACT                        float64\n",
      "NTA_NAME                            object\n",
      "dtypes: float64(6), int64(4), object(50)\n",
      "memory usage: 1.6+ GB\n"
     ]
    }
   ],
   "source": [
    "df.info()"
   ]
  },
  {
   "cell_type": "code",
   "execution_count": 7,
   "metadata": {},
   "outputs": [
    {
     "name": "stdout",
     "output_type": "stream",
     "text": [
      "<class 'pandas.core.frame.DataFrame'>\n",
      "RangeIndex: 3510723 entries, 0 to 3510722\n",
      "Data columns (total 60 columns):\n",
      "BOROUGH                             object\n",
      "Bin #                               object\n",
      "House #                             object\n",
      "Street Name                         object\n",
      "Job #                               int64\n",
      "Job doc. #                          int64\n",
      "Job Type                            object\n",
      "Self_Cert                           object\n",
      "Block                               object\n",
      "Lot                                 object\n",
      "Community Board                     object\n",
      "Zip Code                            float64\n",
      "Bldg Type                           float64\n",
      "Residential                         object\n",
      "Special District 1                  object\n",
      "Special District 2                  object\n",
      "Work Type                           object\n",
      "Permit Status                       object\n",
      "Filing Status                       object\n",
      "Permit Type                         object\n",
      "Permit Sequence #                   int64\n",
      "Permit Subtype                      object\n",
      "Oil Gas                             object\n",
      "Site Fill                           object\n",
      "Filing Date                         object\n",
      "Issuance Date                       object\n",
      "Expiration Date                     object\n",
      "Job Start Date                      object\n",
      "Permittee's First Name              object\n",
      "Permittee's Last Name               object\n",
      "Permittee's Business Name           object\n",
      "Permittee's Phone #                 object\n",
      "Permittee's License Type            object\n",
      "Permittee's License #               object\n",
      "Act as Superintendent               object\n",
      "Permittee's Other Title             object\n",
      "HIC License                         object\n",
      "Site Safety Mgr's First Name        object\n",
      "Site Safety Mgr's Last Name         object\n",
      "Site Safety Mgr Business Name       object\n",
      "Superintendent First & Last Name    object\n",
      "Superintendent Business Name        object\n",
      "Owner's Business Type               object\n",
      "Non-Profit                          object\n",
      "Owner's Business Name               object\n",
      "Owner's First Name                  object\n",
      "Owner's Last Name                   object\n",
      "Owner's House #                     object\n",
      "Owner's House Street Name           object\n",
      "Owner’s House City                  object\n",
      "Owner’s House State                 object\n",
      "Owner’s House Zip Code              object\n",
      "Owner's Phone #                     object\n",
      "DOBRunDate                          object\n",
      "PERMIT_SI_NO                        int64\n",
      "LATITUDE                            float64\n",
      "LONGITUDE                           float64\n",
      "COUNCIL_DISTRICT                    float64\n",
      "CENSUS_TRACT                        float64\n",
      "NTA_NAME                            object\n",
      "dtypes: float64(6), int64(4), object(50)\n",
      "memory usage: 9.3 GB\n"
     ]
    }
   ],
   "source": [
    "df.info(memory_usage = 'deep')"
   ]
  },
  {
   "cell_type": "code",
   "execution_count": 8,
   "metadata": {},
   "outputs": [
    {
     "data": {
      "text/plain": [
       "Index(['House #', 'Street Name', 'Self_Cert', 'Block', 'Lot',\n",
       "       'Community Board', 'Zip Code', 'Bldg Type', 'Residential',\n",
       "       'Special District 1', 'Special District 2', 'Work Type',\n",
       "       'Permit Status', 'Permit Type', 'Permit Subtype', 'Oil Gas',\n",
       "       'Site Fill', 'Filing Date', 'Issuance Date', 'Expiration Date',\n",
       "       'Job Start Date', 'Permittee's First Name', 'Permittee's Last Name',\n",
       "       'Permittee's Business Name', 'Permittee's Phone #',\n",
       "       'Permittee's License Type', 'Permittee's License #',\n",
       "       'Act as Superintendent', 'Permittee's Other Title', 'HIC License',\n",
       "       'Site Safety Mgr's First Name', 'Site Safety Mgr's Last Name',\n",
       "       'Site Safety Mgr Business Name', 'Superintendent First & Last Name',\n",
       "       'Superintendent Business Name', 'Owner's Business Type', 'Non-Profit',\n",
       "       'Owner's Business Name', 'Owner's First Name', 'Owner's Last Name',\n",
       "       'Owner's House #', 'Owner's House Street Name', 'Owner’s House City',\n",
       "       'Owner’s House State', 'Owner’s House Zip Code', 'Owner's Phone #',\n",
       "       'LATITUDE', 'LONGITUDE', 'COUNCIL_DISTRICT', 'CENSUS_TRACT',\n",
       "       'NTA_NAME'],\n",
       "      dtype='object')"
      ]
     },
     "execution_count": 8,
     "metadata": {},
     "output_type": "execute_result"
    }
   ],
   "source": [
    "df.columns[df.isnull().any()]"
   ]
  },
  {
   "cell_type": "code",
   "execution_count": 9,
   "metadata": {},
   "outputs": [],
   "source": [
    "test = df #backup for dataset"
   ]
  },
  {
   "cell_type": "code",
   "execution_count": 10,
   "metadata": {},
   "outputs": [
    {
     "data": {
      "text/plain": [
       "BOROUGH                                   5\n",
       "Bin #                                384093\n",
       "House #                               33560\n",
       "Street Name                           27110\n",
       "Job #                               1536319\n",
       "Job doc. #                               12\n",
       "Job Type                                  6\n",
       "Self_Cert                                 6\n",
       "Block                                 22205\n",
       "Lot                                    2965\n",
       "Community Board                         222\n",
       "Zip Code                                231\n",
       "Bldg Type                                 3\n",
       "Residential                               2\n",
       "Special District 1                       96\n",
       "Special District 2                        9\n",
       "Work Type                                14\n",
       "Permit Status                             5\n",
       "Filing Status                             2\n",
       "Permit Type                               9\n",
       "Permit Sequence #                        29\n",
       "Permit Subtype                           16\n",
       "Oil Gas                                   3\n",
       "Site Fill                                 6\n",
       "Filing Date                            8461\n",
       "Issuance Date                          8459\n",
       "Expiration Date                       11150\n",
       "Job Start Date                         9563\n",
       "Permittee's First Name                38241\n",
       "Permittee's Last Name                 90849\n",
       "Permittee's Business Name            362944\n",
       "Permittee's Phone #                  172581\n",
       "Permittee's License Type                 13\n",
       "Permittee's License #                 59805\n",
       "Act as Superintendent                     3\n",
       "Permittee's Other Title                3174\n",
       "HIC License                            5744\n",
       "Site Safety Mgr's First Name            666\n",
       "Site Safety Mgr's Last Name            1609\n",
       "Site Safety Mgr Business Name          1616\n",
       "Superintendent First & Last Name     157439\n",
       "Superintendent Business Name         309849\n",
       "Owner's Business Type                    15\n",
       "Non-Profit                                5\n",
       "Owner's Business Name                469358\n",
       "Owner's First Name                    93581\n",
       "Owner's Last Name                    170214\n",
       "Owner's House #                       40326\n",
       "Owner's House Street Name            135058\n",
       "Owner’s House City                    12637\n",
       "Owner’s House State                      58\n",
       "Owner’s House Zip Code                11803\n",
       "Owner's Phone #                      451858\n",
       "DOBRunDate                              450\n",
       "PERMIT_SI_NO                        3510723\n",
       "LATITUDE                             223906\n",
       "LONGITUDE                            234235\n",
       "COUNCIL_DISTRICT                         52\n",
       "CENSUS_TRACT                           1327\n",
       "NTA_NAME                                195\n",
       "dtype: int64"
      ]
     },
     "execution_count": 10,
     "metadata": {},
     "output_type": "execute_result"
    }
   ],
   "source": [
    "df.apply(lambda x: len(x.unique()))"
   ]
  },
  {
   "cell_type": "code",
   "execution_count": 11,
   "metadata": {},
   "outputs": [
    {
     "name": "stdout",
     "output_type": "stream",
     "text": [
      "Average memory usage for float columns: 22.96 MB\n",
      "Average memory usage for int columns: 21.43 MB\n",
      "Average memory usage for object columns: 180.56 MB\n"
     ]
    }
   ],
   "source": [
    "for dtype in ['float','int','object']:\n",
    "    selected_dtype = df.select_dtypes(include=[dtype])\n",
    "    mean_usage_b = selected_dtype.memory_usage(deep=True).mean()\n",
    "    mean_usage_mb = mean_usage_b / 1024 ** 2\n",
    "    print(\"Average memory usage for {} columns: {:03.2f} MB\".format(dtype,mean_usage_mb))"
   ]
  },
  {
   "cell_type": "code",
   "execution_count": 12,
   "metadata": {},
   "outputs": [],
   "source": [
    "def mem_usage(pandas_obj):\n",
    "    if isinstance(pandas_obj,pd.DataFrame):\n",
    "        usage_b = pandas_obj.memory_usage(deep=True).sum()\n",
    "    else: # we assume if not a df it's a series\n",
    "        usage_b = pandas_obj.memory_usage(deep=True)\n",
    "    usage_mb = usage_b / 1024 ** 2 # convert bytes to megabytes\n",
    "    return \"{:03.2f} MB\".format(usage_mb)"
   ]
  },
  {
   "cell_type": "markdown",
   "metadata": {},
   "source": [
    "I will use the function pd.to_numeric() to downcast the numeric types. I am using DataFrame.select_dtypes to select only the integer columns, then optimizing the types and compare the memory usage."
   ]
  },
  {
   "cell_type": "code",
   "execution_count": 13,
   "metadata": {},
   "outputs": [
    {
     "name": "stdout",
     "output_type": "stream",
     "text": [
      "107.14 MB\n",
      "33.48 MB\n"
     ]
    },
    {
     "data": {
      "text/html": [
       "<div>\n",
       "<style scoped>\n",
       "    .dataframe tbody tr th:only-of-type {\n",
       "        vertical-align: middle;\n",
       "    }\n",
       "\n",
       "    .dataframe tbody tr th {\n",
       "        vertical-align: top;\n",
       "    }\n",
       "\n",
       "    .dataframe thead th {\n",
       "        text-align: right;\n",
       "    }\n",
       "</style>\n",
       "<table border=\"1\" class=\"dataframe\">\n",
       "  <thead>\n",
       "    <tr style=\"text-align: right;\">\n",
       "      <th></th>\n",
       "      <th>before</th>\n",
       "      <th>after</th>\n",
       "    </tr>\n",
       "  </thead>\n",
       "  <tbody>\n",
       "    <tr>\n",
       "      <th>uint8</th>\n",
       "      <td>NaN</td>\n",
       "      <td>2.0</td>\n",
       "    </tr>\n",
       "    <tr>\n",
       "      <th>uint32</th>\n",
       "      <td>NaN</td>\n",
       "      <td>2.0</td>\n",
       "    </tr>\n",
       "    <tr>\n",
       "      <th>int64</th>\n",
       "      <td>4.0</td>\n",
       "      <td>NaN</td>\n",
       "    </tr>\n",
       "  </tbody>\n",
       "</table>\n",
       "</div>"
      ],
      "text/plain": [
       "        before  after\n",
       "uint8      NaN    2.0\n",
       "uint32     NaN    2.0\n",
       "int64      4.0    NaN"
      ]
     },
     "execution_count": 13,
     "metadata": {},
     "output_type": "execute_result"
    }
   ],
   "source": [
    "df_int = df.select_dtypes(include=['int'])\n",
    "converted_int = df_int.apply(pd.to_numeric,downcast='unsigned')\n",
    "print(mem_usage(df_int))\n",
    "print(mem_usage(converted_int))\n",
    "compare_ints = pd.concat([df_int.dtypes,converted_int.dtypes],axis=1)\n",
    "compare_ints.columns = ['before','after']\n",
    "compare_ints.apply(pd.Series.value_counts)"
   ]
  },
  {
   "cell_type": "markdown",
   "metadata": {},
   "source": [
    "We can see a drop from 107.14 MB to 33.48 in memory usage, which is a more than 68% reduction. The overall impact on our original dataframe isn’t massive though, because there are so few integer columns.\n",
    "\n"
   ]
  },
  {
   "cell_type": "markdown",
   "metadata": {},
   "source": [
    "Lets do the same thing with our float columns."
   ]
  },
  {
   "cell_type": "code",
   "execution_count": 14,
   "metadata": {},
   "outputs": [
    {
     "name": "stdout",
     "output_type": "stream",
     "text": [
      "160.71 MB\n",
      "80.35 MB\n"
     ]
    },
    {
     "data": {
      "text/html": [
       "<div>\n",
       "<style scoped>\n",
       "    .dataframe tbody tr th:only-of-type {\n",
       "        vertical-align: middle;\n",
       "    }\n",
       "\n",
       "    .dataframe tbody tr th {\n",
       "        vertical-align: top;\n",
       "    }\n",
       "\n",
       "    .dataframe thead th {\n",
       "        text-align: right;\n",
       "    }\n",
       "</style>\n",
       "<table border=\"1\" class=\"dataframe\">\n",
       "  <thead>\n",
       "    <tr style=\"text-align: right;\">\n",
       "      <th></th>\n",
       "      <th>before</th>\n",
       "      <th>after</th>\n",
       "    </tr>\n",
       "  </thead>\n",
       "  <tbody>\n",
       "    <tr>\n",
       "      <th>float32</th>\n",
       "      <td>NaN</td>\n",
       "      <td>6.0</td>\n",
       "    </tr>\n",
       "    <tr>\n",
       "      <th>float64</th>\n",
       "      <td>6.0</td>\n",
       "      <td>NaN</td>\n",
       "    </tr>\n",
       "  </tbody>\n",
       "</table>\n",
       "</div>"
      ],
      "text/plain": [
       "         before  after\n",
       "float32     NaN    6.0\n",
       "float64     6.0    NaN"
      ]
     },
     "execution_count": 14,
     "metadata": {},
     "output_type": "execute_result"
    }
   ],
   "source": [
    "df_float = df.select_dtypes(include=['float'])\n",
    "converted_float = df_float.apply(pd.to_numeric,downcast='float')\n",
    "print(mem_usage(df_float))\n",
    "print(mem_usage(converted_float))\n",
    "compare_floats = pd.concat([df_float.dtypes,converted_float.dtypes],axis=1)\n",
    "compare_floats.columns = ['before','after']\n",
    "compare_floats.apply(pd.Series.value_counts)"
   ]
  },
  {
   "cell_type": "markdown",
   "metadata": {},
   "source": [
    "We can see that all our float columns were converted from float64 to float32, giving us a 50% reduction in memory usage."
   ]
  },
  {
   "cell_type": "code",
   "execution_count": 15,
   "metadata": {},
   "outputs": [
    {
     "name": "stdout",
     "output_type": "stream",
     "text": [
      "<class 'pandas.core.frame.DataFrame'>\n",
      "RangeIndex: 3510723 entries, 0 to 3510722\n",
      "Data columns (total 60 columns):\n",
      "BOROUGH                             object\n",
      "Bin #                               object\n",
      "House #                             object\n",
      "Street Name                         object\n",
      "Job #                               int64\n",
      "Job doc. #                          int64\n",
      "Job Type                            object\n",
      "Self_Cert                           object\n",
      "Block                               object\n",
      "Lot                                 object\n",
      "Community Board                     object\n",
      "Zip Code                            float64\n",
      "Bldg Type                           float64\n",
      "Residential                         object\n",
      "Special District 1                  object\n",
      "Special District 2                  object\n",
      "Work Type                           object\n",
      "Permit Status                       object\n",
      "Filing Status                       object\n",
      "Permit Type                         object\n",
      "Permit Sequence #                   int64\n",
      "Permit Subtype                      object\n",
      "Oil Gas                             object\n",
      "Site Fill                           object\n",
      "Filing Date                         object\n",
      "Issuance Date                       object\n",
      "Expiration Date                     object\n",
      "Job Start Date                      object\n",
      "Permittee's First Name              object\n",
      "Permittee's Last Name               object\n",
      "Permittee's Business Name           object\n",
      "Permittee's Phone #                 object\n",
      "Permittee's License Type            object\n",
      "Permittee's License #               object\n",
      "Act as Superintendent               object\n",
      "Permittee's Other Title             object\n",
      "HIC License                         object\n",
      "Site Safety Mgr's First Name        object\n",
      "Site Safety Mgr's Last Name         object\n",
      "Site Safety Mgr Business Name       object\n",
      "Superintendent First & Last Name    object\n",
      "Superintendent Business Name        object\n",
      "Owner's Business Type               object\n",
      "Non-Profit                          object\n",
      "Owner's Business Name               object\n",
      "Owner's First Name                  object\n",
      "Owner's Last Name                   object\n",
      "Owner's House #                     object\n",
      "Owner's House Street Name           object\n",
      "Owner’s House City                  object\n",
      "Owner’s House State                 object\n",
      "Owner’s House Zip Code              object\n",
      "Owner's Phone #                     object\n",
      "DOBRunDate                          object\n",
      "PERMIT_SI_NO                        int64\n",
      "LATITUDE                            float64\n",
      "LONGITUDE                           float64\n",
      "COUNCIL_DISTRICT                    float64\n",
      "CENSUS_TRACT                        float64\n",
      "NTA_NAME                            object\n",
      "dtypes: float64(6), int64(4), object(50)\n",
      "memory usage: 9.3 GB\n",
      "None\n",
      "<class 'pandas.core.frame.DataFrame'>\n",
      "RangeIndex: 3510723 entries, 0 to 3510722\n",
      "Data columns (total 60 columns):\n",
      "BOROUGH                             object\n",
      "Bin #                               object\n",
      "House #                             object\n",
      "Street Name                         object\n",
      "Job #                               uint32\n",
      "Job doc. #                          uint8\n",
      "Job Type                            object\n",
      "Self_Cert                           object\n",
      "Block                               object\n",
      "Lot                                 object\n",
      "Community Board                     object\n",
      "Zip Code                            float32\n",
      "Bldg Type                           float32\n",
      "Residential                         object\n",
      "Special District 1                  object\n",
      "Special District 2                  object\n",
      "Work Type                           object\n",
      "Permit Status                       object\n",
      "Filing Status                       object\n",
      "Permit Type                         object\n",
      "Permit Sequence #                   uint8\n",
      "Permit Subtype                      object\n",
      "Oil Gas                             object\n",
      "Site Fill                           object\n",
      "Filing Date                         object\n",
      "Issuance Date                       object\n",
      "Expiration Date                     object\n",
      "Job Start Date                      object\n",
      "Permittee's First Name              object\n",
      "Permittee's Last Name               object\n",
      "Permittee's Business Name           object\n",
      "Permittee's Phone #                 object\n",
      "Permittee's License Type            object\n",
      "Permittee's License #               object\n",
      "Act as Superintendent               object\n",
      "Permittee's Other Title             object\n",
      "HIC License                         object\n",
      "Site Safety Mgr's First Name        object\n",
      "Site Safety Mgr's Last Name         object\n",
      "Site Safety Mgr Business Name       object\n",
      "Superintendent First & Last Name    object\n",
      "Superintendent Business Name        object\n",
      "Owner's Business Type               object\n",
      "Non-Profit                          object\n",
      "Owner's Business Name               object\n",
      "Owner's First Name                  object\n",
      "Owner's Last Name                   object\n",
      "Owner's House #                     object\n",
      "Owner's House Street Name           object\n",
      "Owner’s House City                  object\n",
      "Owner’s House State                 object\n",
      "Owner’s House Zip Code              object\n",
      "Owner's Phone #                     object\n",
      "DOBRunDate                          object\n",
      "PERMIT_SI_NO                        uint32\n",
      "LATITUDE                            float32\n",
      "LONGITUDE                           float32\n",
      "COUNCIL_DISTRICT                    float32\n",
      "CENSUS_TRACT                        float32\n",
      "NTA_NAME                            object\n",
      "dtypes: float32(6), object(50), uint32(2), uint8(2)\n",
      "memory usage: 9.1 GB\n",
      "None\n"
     ]
    }
   ],
   "source": [
    "optimized_df = df.copy()\n",
    "optimized_df[converted_int.columns] = converted_int\n",
    "optimized_df[converted_float.columns] = converted_float\n",
    "print(df.info(memory_usage = 'deep'))\n",
    "print(optimized_df.info(memory_usage = 'deep'))"
   ]
  },
  {
   "cell_type": "markdown",
   "metadata": {},
   "source": [
    "So while we dramatically reduced the memory for the ints and floats, we can only see an overall improvement of 200 MB i.e. just over 2%. Majority of our optimization is going to come from the object data type."
   ]
  },
  {
   "cell_type": "markdown",
   "metadata": {},
   "source": [
    "Optimizing object datatypes, i.e. strings stored, take up 1 MB for the pointer and each actual string value uses the same amount of memory that string would use if stored individually in Python"
   ]
  },
  {
   "cell_type": "code",
   "execution_count": 16,
   "metadata": {},
   "outputs": [
    {
     "data": {
      "text/html": [
       "<div>\n",
       "<style scoped>\n",
       "    .dataframe tbody tr th:only-of-type {\n",
       "        vertical-align: middle;\n",
       "    }\n",
       "\n",
       "    .dataframe tbody tr th {\n",
       "        vertical-align: top;\n",
       "    }\n",
       "\n",
       "    .dataframe thead th {\n",
       "        text-align: right;\n",
       "    }\n",
       "</style>\n",
       "<table border=\"1\" class=\"dataframe\">\n",
       "  <thead>\n",
       "    <tr style=\"text-align: right;\">\n",
       "      <th></th>\n",
       "      <th>BOROUGH</th>\n",
       "      <th>Bin #</th>\n",
       "      <th>House #</th>\n",
       "      <th>Street Name</th>\n",
       "      <th>Job Type</th>\n",
       "      <th>Self_Cert</th>\n",
       "      <th>Block</th>\n",
       "      <th>Lot</th>\n",
       "      <th>Community Board</th>\n",
       "      <th>Residential</th>\n",
       "      <th>...</th>\n",
       "      <th>Owner's First Name</th>\n",
       "      <th>Owner's Last Name</th>\n",
       "      <th>Owner's House #</th>\n",
       "      <th>Owner's House Street Name</th>\n",
       "      <th>Owner’s House City</th>\n",
       "      <th>Owner’s House State</th>\n",
       "      <th>Owner’s House Zip Code</th>\n",
       "      <th>Owner's Phone #</th>\n",
       "      <th>DOBRunDate</th>\n",
       "      <th>NTA_NAME</th>\n",
       "    </tr>\n",
       "  </thead>\n",
       "  <tbody>\n",
       "    <tr>\n",
       "      <th>count</th>\n",
       "      <td>3510723</td>\n",
       "      <td>3510723</td>\n",
       "      <td>3510719</td>\n",
       "      <td>3510719</td>\n",
       "      <td>3510723</td>\n",
       "      <td>2236685</td>\n",
       "      <td>3510224</td>\n",
       "      <td>3510215</td>\n",
       "      <td>3505965.0</td>\n",
       "      <td>1369942</td>\n",
       "      <td>...</td>\n",
       "      <td>3508865</td>\n",
       "      <td>3509170</td>\n",
       "      <td>3509598</td>\n",
       "      <td>3509354</td>\n",
       "      <td>3510017</td>\n",
       "      <td>3510044</td>\n",
       "      <td>3504548.0</td>\n",
       "      <td>3461683</td>\n",
       "      <td>3510723</td>\n",
       "      <td>3498438</td>\n",
       "    </tr>\n",
       "    <tr>\n",
       "      <th>unique</th>\n",
       "      <td>5</td>\n",
       "      <td>384093</td>\n",
       "      <td>33559</td>\n",
       "      <td>27109</td>\n",
       "      <td>6</td>\n",
       "      <td>5</td>\n",
       "      <td>22204</td>\n",
       "      <td>2964</td>\n",
       "      <td>221.0</td>\n",
       "      <td>1</td>\n",
       "      <td>...</td>\n",
       "      <td>93580</td>\n",
       "      <td>170213</td>\n",
       "      <td>40325</td>\n",
       "      <td>135057</td>\n",
       "      <td>12636</td>\n",
       "      <td>57</td>\n",
       "      <td>11802.0</td>\n",
       "      <td>451857</td>\n",
       "      <td>450</td>\n",
       "      <td>194</td>\n",
       "    </tr>\n",
       "    <tr>\n",
       "      <th>top</th>\n",
       "      <td>MANHATTAN</td>\n",
       "      <td>1015862</td>\n",
       "      <td>1</td>\n",
       "      <td>BROADWAY</td>\n",
       "      <td>A2</td>\n",
       "      <td>Y</td>\n",
       "      <td>16</td>\n",
       "      <td>1</td>\n",
       "      <td>105.0</td>\n",
       "      <td>YES</td>\n",
       "      <td>...</td>\n",
       "      <td>MICHAEL</td>\n",
       "      <td>SINGH</td>\n",
       "      <td>100</td>\n",
       "      <td>BROADWAY</td>\n",
       "      <td>NEW YORK</td>\n",
       "      <td>NY</td>\n",
       "      <td>10022.0</td>\n",
       "      <td>7184728000</td>\n",
       "      <td>11/03/2017 12:00:00 AM</td>\n",
       "      <td>Midtown-Midtown South</td>\n",
       "    </tr>\n",
       "    <tr>\n",
       "      <th>freq</th>\n",
       "      <td>1463064</td>\n",
       "      <td>3202</td>\n",
       "      <td>27660</td>\n",
       "      <td>96985</td>\n",
       "      <td>2096225</td>\n",
       "      <td>1527271</td>\n",
       "      <td>10539</td>\n",
       "      <td>373115</td>\n",
       "      <td>338457.0</td>\n",
       "      <td>1369942</td>\n",
       "      <td>...</td>\n",
       "      <td>81333</td>\n",
       "      <td>32544</td>\n",
       "      <td>86235</td>\n",
       "      <td>85921</td>\n",
       "      <td>967794</td>\n",
       "      <td>3415338</td>\n",
       "      <td>89178.0</td>\n",
       "      <td>15604</td>\n",
       "      <td>3236671</td>\n",
       "      <td>256351</td>\n",
       "    </tr>\n",
       "  </tbody>\n",
       "</table>\n",
       "<p>4 rows × 50 columns</p>\n",
       "</div>"
      ],
      "text/plain": [
       "          BOROUGH    Bin #  House # Street Name Job Type Self_Cert    Block  \\\n",
       "count     3510723  3510723  3510719     3510719  3510723   2236685  3510224   \n",
       "unique          5   384093    33559       27109        6         5    22204   \n",
       "top     MANHATTAN  1015862        1    BROADWAY       A2         Y       16   \n",
       "freq      1463064     3202    27660       96985  2096225   1527271    10539   \n",
       "\n",
       "            Lot  Community Board Residential          ...            \\\n",
       "count   3510215        3505965.0     1369942          ...             \n",
       "unique     2964            221.0           1          ...             \n",
       "top           1            105.0         YES          ...             \n",
       "freq     373115         338457.0     1369942          ...             \n",
       "\n",
       "       Owner's First Name Owner's Last Name Owner's House #  \\\n",
       "count             3508865           3509170         3509598   \n",
       "unique              93580            170213           40325   \n",
       "top               MICHAEL             SINGH             100   \n",
       "freq                81333             32544           86235   \n",
       "\n",
       "       Owner's House Street Name Owner’s House City Owner’s House State  \\\n",
       "count                    3509354            3510017             3510044   \n",
       "unique                    135057              12636                  57   \n",
       "top                     BROADWAY           NEW YORK                  NY   \n",
       "freq                       85921             967794             3415338   \n",
       "\n",
       "       Owner’s House Zip Code Owner's Phone #              DOBRunDate  \\\n",
       "count               3504548.0         3461683                 3510723   \n",
       "unique                11802.0          451857                     450   \n",
       "top                   10022.0      7184728000  11/03/2017 12:00:00 AM   \n",
       "freq                  89178.0           15604                 3236671   \n",
       "\n",
       "                     NTA_NAME  \n",
       "count                 3498438  \n",
       "unique                    194  \n",
       "top     Midtown-Midtown South  \n",
       "freq                   256351  \n",
       "\n",
       "[4 rows x 50 columns]"
      ]
     },
     "execution_count": 16,
     "metadata": {},
     "output_type": "execute_result"
    }
   ],
   "source": [
    "df_obj = df.select_dtypes(include=['object']).copy()\n",
    "df_obj.describe()"
   ]
  },
  {
   "cell_type": "code",
   "execution_count": 17,
   "metadata": {},
   "outputs": [],
   "source": [
    "converted_obj = pd.DataFrame()\n",
    "\n",
    "for col in df_obj.columns:\n",
    "    num_unique_values = len(df_obj[col].unique())\n",
    "    num_total_values = len(df_obj[col])\n",
    "    if num_unique_values / num_total_values < 0.5:\n",
    "        converted_obj.loc[:,col] = df_obj[col].astype('category')\n",
    "    else:\n",
    "        converted_obj.loc[:,col] = df_obj[col]"
   ]
  },
  {
   "cell_type": "code",
   "execution_count": 18,
   "metadata": {},
   "outputs": [
    {
     "name": "stdout",
     "output_type": "stream",
     "text": [
      "9208.38 MB\n",
      "671.47 MB\n"
     ]
    },
    {
     "data": {
      "text/html": [
       "<div>\n",
       "<style scoped>\n",
       "    .dataframe tbody tr th:only-of-type {\n",
       "        vertical-align: middle;\n",
       "    }\n",
       "\n",
       "    .dataframe tbody tr th {\n",
       "        vertical-align: top;\n",
       "    }\n",
       "\n",
       "    .dataframe thead th {\n",
       "        text-align: right;\n",
       "    }\n",
       "</style>\n",
       "<table border=\"1\" class=\"dataframe\">\n",
       "  <thead>\n",
       "    <tr style=\"text-align: right;\">\n",
       "      <th></th>\n",
       "      <th>before</th>\n",
       "      <th>after</th>\n",
       "    </tr>\n",
       "  </thead>\n",
       "  <tbody>\n",
       "    <tr>\n",
       "      <th>object</th>\n",
       "      <td>50.0</td>\n",
       "      <td>NaN</td>\n",
       "    </tr>\n",
       "    <tr>\n",
       "      <th>category</th>\n",
       "      <td>NaN</td>\n",
       "      <td>1.0</td>\n",
       "    </tr>\n",
       "    <tr>\n",
       "      <th>category</th>\n",
       "      <td>NaN</td>\n",
       "      <td>1.0</td>\n",
       "    </tr>\n",
       "    <tr>\n",
       "      <th>category</th>\n",
       "      <td>NaN</td>\n",
       "      <td>1.0</td>\n",
       "    </tr>\n",
       "    <tr>\n",
       "      <th>category</th>\n",
       "      <td>NaN</td>\n",
       "      <td>1.0</td>\n",
       "    </tr>\n",
       "    <tr>\n",
       "      <th>category</th>\n",
       "      <td>NaN</td>\n",
       "      <td>1.0</td>\n",
       "    </tr>\n",
       "    <tr>\n",
       "      <th>category</th>\n",
       "      <td>NaN</td>\n",
       "      <td>1.0</td>\n",
       "    </tr>\n",
       "    <tr>\n",
       "      <th>category</th>\n",
       "      <td>NaN</td>\n",
       "      <td>1.0</td>\n",
       "    </tr>\n",
       "    <tr>\n",
       "      <th>category</th>\n",
       "      <td>NaN</td>\n",
       "      <td>1.0</td>\n",
       "    </tr>\n",
       "    <tr>\n",
       "      <th>category</th>\n",
       "      <td>NaN</td>\n",
       "      <td>1.0</td>\n",
       "    </tr>\n",
       "    <tr>\n",
       "      <th>category</th>\n",
       "      <td>NaN</td>\n",
       "      <td>1.0</td>\n",
       "    </tr>\n",
       "    <tr>\n",
       "      <th>category</th>\n",
       "      <td>NaN</td>\n",
       "      <td>1.0</td>\n",
       "    </tr>\n",
       "    <tr>\n",
       "      <th>category</th>\n",
       "      <td>NaN</td>\n",
       "      <td>1.0</td>\n",
       "    </tr>\n",
       "    <tr>\n",
       "      <th>category</th>\n",
       "      <td>NaN</td>\n",
       "      <td>1.0</td>\n",
       "    </tr>\n",
       "    <tr>\n",
       "      <th>category</th>\n",
       "      <td>NaN</td>\n",
       "      <td>1.0</td>\n",
       "    </tr>\n",
       "    <tr>\n",
       "      <th>category</th>\n",
       "      <td>NaN</td>\n",
       "      <td>1.0</td>\n",
       "    </tr>\n",
       "    <tr>\n",
       "      <th>category</th>\n",
       "      <td>NaN</td>\n",
       "      <td>1.0</td>\n",
       "    </tr>\n",
       "    <tr>\n",
       "      <th>category</th>\n",
       "      <td>NaN</td>\n",
       "      <td>1.0</td>\n",
       "    </tr>\n",
       "    <tr>\n",
       "      <th>category</th>\n",
       "      <td>NaN</td>\n",
       "      <td>1.0</td>\n",
       "    </tr>\n",
       "    <tr>\n",
       "      <th>category</th>\n",
       "      <td>NaN</td>\n",
       "      <td>1.0</td>\n",
       "    </tr>\n",
       "    <tr>\n",
       "      <th>category</th>\n",
       "      <td>NaN</td>\n",
       "      <td>1.0</td>\n",
       "    </tr>\n",
       "    <tr>\n",
       "      <th>category</th>\n",
       "      <td>NaN</td>\n",
       "      <td>1.0</td>\n",
       "    </tr>\n",
       "    <tr>\n",
       "      <th>category</th>\n",
       "      <td>NaN</td>\n",
       "      <td>1.0</td>\n",
       "    </tr>\n",
       "    <tr>\n",
       "      <th>category</th>\n",
       "      <td>NaN</td>\n",
       "      <td>1.0</td>\n",
       "    </tr>\n",
       "    <tr>\n",
       "      <th>category</th>\n",
       "      <td>NaN</td>\n",
       "      <td>1.0</td>\n",
       "    </tr>\n",
       "    <tr>\n",
       "      <th>category</th>\n",
       "      <td>NaN</td>\n",
       "      <td>1.0</td>\n",
       "    </tr>\n",
       "    <tr>\n",
       "      <th>category</th>\n",
       "      <td>NaN</td>\n",
       "      <td>1.0</td>\n",
       "    </tr>\n",
       "    <tr>\n",
       "      <th>category</th>\n",
       "      <td>NaN</td>\n",
       "      <td>1.0</td>\n",
       "    </tr>\n",
       "    <tr>\n",
       "      <th>category</th>\n",
       "      <td>NaN</td>\n",
       "      <td>1.0</td>\n",
       "    </tr>\n",
       "    <tr>\n",
       "      <th>category</th>\n",
       "      <td>NaN</td>\n",
       "      <td>1.0</td>\n",
       "    </tr>\n",
       "    <tr>\n",
       "      <th>category</th>\n",
       "      <td>NaN</td>\n",
       "      <td>1.0</td>\n",
       "    </tr>\n",
       "    <tr>\n",
       "      <th>category</th>\n",
       "      <td>NaN</td>\n",
       "      <td>1.0</td>\n",
       "    </tr>\n",
       "    <tr>\n",
       "      <th>category</th>\n",
       "      <td>NaN</td>\n",
       "      <td>1.0</td>\n",
       "    </tr>\n",
       "    <tr>\n",
       "      <th>category</th>\n",
       "      <td>NaN</td>\n",
       "      <td>1.0</td>\n",
       "    </tr>\n",
       "    <tr>\n",
       "      <th>category</th>\n",
       "      <td>NaN</td>\n",
       "      <td>1.0</td>\n",
       "    </tr>\n",
       "    <tr>\n",
       "      <th>category</th>\n",
       "      <td>NaN</td>\n",
       "      <td>1.0</td>\n",
       "    </tr>\n",
       "    <tr>\n",
       "      <th>category</th>\n",
       "      <td>NaN</td>\n",
       "      <td>1.0</td>\n",
       "    </tr>\n",
       "    <tr>\n",
       "      <th>category</th>\n",
       "      <td>NaN</td>\n",
       "      <td>1.0</td>\n",
       "    </tr>\n",
       "    <tr>\n",
       "      <th>category</th>\n",
       "      <td>NaN</td>\n",
       "      <td>1.0</td>\n",
       "    </tr>\n",
       "    <tr>\n",
       "      <th>category</th>\n",
       "      <td>NaN</td>\n",
       "      <td>1.0</td>\n",
       "    </tr>\n",
       "    <tr>\n",
       "      <th>category</th>\n",
       "      <td>NaN</td>\n",
       "      <td>1.0</td>\n",
       "    </tr>\n",
       "    <tr>\n",
       "      <th>category</th>\n",
       "      <td>NaN</td>\n",
       "      <td>1.0</td>\n",
       "    </tr>\n",
       "    <tr>\n",
       "      <th>category</th>\n",
       "      <td>NaN</td>\n",
       "      <td>1.0</td>\n",
       "    </tr>\n",
       "    <tr>\n",
       "      <th>category</th>\n",
       "      <td>NaN</td>\n",
       "      <td>1.0</td>\n",
       "    </tr>\n",
       "    <tr>\n",
       "      <th>category</th>\n",
       "      <td>NaN</td>\n",
       "      <td>1.0</td>\n",
       "    </tr>\n",
       "    <tr>\n",
       "      <th>category</th>\n",
       "      <td>NaN</td>\n",
       "      <td>1.0</td>\n",
       "    </tr>\n",
       "    <tr>\n",
       "      <th>category</th>\n",
       "      <td>NaN</td>\n",
       "      <td>1.0</td>\n",
       "    </tr>\n",
       "    <tr>\n",
       "      <th>category</th>\n",
       "      <td>NaN</td>\n",
       "      <td>1.0</td>\n",
       "    </tr>\n",
       "    <tr>\n",
       "      <th>category</th>\n",
       "      <td>NaN</td>\n",
       "      <td>1.0</td>\n",
       "    </tr>\n",
       "    <tr>\n",
       "      <th>category</th>\n",
       "      <td>NaN</td>\n",
       "      <td>1.0</td>\n",
       "    </tr>\n",
       "    <tr>\n",
       "      <th>category</th>\n",
       "      <td>NaN</td>\n",
       "      <td>1.0</td>\n",
       "    </tr>\n",
       "  </tbody>\n",
       "</table>\n",
       "</div>"
      ],
      "text/plain": [
       "          before  after\n",
       "object      50.0    NaN\n",
       "category     NaN    1.0\n",
       "category     NaN    1.0\n",
       "category     NaN    1.0\n",
       "category     NaN    1.0\n",
       "category     NaN    1.0\n",
       "category     NaN    1.0\n",
       "category     NaN    1.0\n",
       "category     NaN    1.0\n",
       "category     NaN    1.0\n",
       "category     NaN    1.0\n",
       "category     NaN    1.0\n",
       "category     NaN    1.0\n",
       "category     NaN    1.0\n",
       "category     NaN    1.0\n",
       "category     NaN    1.0\n",
       "category     NaN    1.0\n",
       "category     NaN    1.0\n",
       "category     NaN    1.0\n",
       "category     NaN    1.0\n",
       "category     NaN    1.0\n",
       "category     NaN    1.0\n",
       "category     NaN    1.0\n",
       "category     NaN    1.0\n",
       "category     NaN    1.0\n",
       "category     NaN    1.0\n",
       "category     NaN    1.0\n",
       "category     NaN    1.0\n",
       "category     NaN    1.0\n",
       "category     NaN    1.0\n",
       "category     NaN    1.0\n",
       "category     NaN    1.0\n",
       "category     NaN    1.0\n",
       "category     NaN    1.0\n",
       "category     NaN    1.0\n",
       "category     NaN    1.0\n",
       "category     NaN    1.0\n",
       "category     NaN    1.0\n",
       "category     NaN    1.0\n",
       "category     NaN    1.0\n",
       "category     NaN    1.0\n",
       "category     NaN    1.0\n",
       "category     NaN    1.0\n",
       "category     NaN    1.0\n",
       "category     NaN    1.0\n",
       "category     NaN    1.0\n",
       "category     NaN    1.0\n",
       "category     NaN    1.0\n",
       "category     NaN    1.0\n",
       "category     NaN    1.0\n",
       "category     NaN    1.0"
      ]
     },
     "execution_count": 18,
     "metadata": {},
     "output_type": "execute_result"
    }
   ],
   "source": [
    "print(mem_usage(df_obj))\n",
    "print(mem_usage(converted_obj))\n",
    "\n",
    "compare_obj = pd.concat([df_obj.dtypes,converted_obj.dtypes],axis=1)\n",
    "compare_obj.columns = ['before','after']\n",
    "compare_obj.apply(pd.Series.value_counts)"
   ]
  },
  {
   "cell_type": "markdown",
   "metadata": {},
   "source": [
    "What I have done in the above step is to convert all the object columns with a uniqueness of less than 50% into categorical type. What this step basically did was map the object values of a column into integers, rather than using the raw values. This resulted in the reduction of memory usage from 9.2 GB to 671 MB (a 92% reduction Woohoo!)"
   ]
  },
  {
   "cell_type": "markdown",
   "metadata": {},
   "source": [
    "I'll now merge these columns with the rest of our dataframe and see the final memory usage"
   ]
  },
  {
   "cell_type": "code",
   "execution_count": 19,
   "metadata": {},
   "outputs": [
    {
     "data": {
      "text/plain": [
       "'785.30 MB'"
      ]
     },
     "execution_count": 19,
     "metadata": {},
     "output_type": "execute_result"
    }
   ],
   "source": [
    "optimized_df[converted_obj.columns] = converted_obj\n",
    "mem_usage(optimized_df)"
   ]
  },
  {
   "cell_type": "markdown",
   "metadata": {},
   "source": [
    "By performing this memory usage reduction, it will make procesing relatively faster for further EDA and modeling on my standard laptop"
   ]
  },
  {
   "cell_type": "code",
   "execution_count": 20,
   "metadata": {},
   "outputs": [
    {
     "name": "stdout",
     "output_type": "stream",
     "text": [
      "BOROUGH                                   0\n",
      "Bin #                                     0\n",
      "House #                                   4\n",
      "Street Name                               4\n",
      "Job #                                     0\n",
      "Job doc. #                                0\n",
      "Job Type                                  0\n",
      "Self_Cert                           1274038\n",
      "Block                                   499\n",
      "Lot                                     508\n",
      "Community Board                        4758\n",
      "Zip Code                               2225\n",
      "Bldg Type                             54477\n",
      "Residential                         2140781\n",
      "Special District 1                  3123295\n",
      "Special District 2                  3441991\n",
      "Work Type                            610134\n",
      "Permit Status                         10806\n",
      "Filing Status                             0\n",
      "Permit Type                               1\n",
      "Permit Sequence #                         0\n",
      "Permit Subtype                      1394232\n",
      "Oil Gas                             3472568\n",
      "Site Fill                            417834\n",
      "Filing Date                               1\n",
      "Issuance Date                         19969\n",
      "Expiration Date                       11146\n",
      "Job Start Date                           30\n",
      "Permittee's First Name                15733\n",
      "Permittee's Last Name                 15749\n",
      "Permittee's Business Name             48870\n",
      "Permittee's Phone #                   15964\n",
      "Permittee's License Type             269083\n",
      "Permittee's License #                238706\n",
      "Act as Superintendent               1914590\n",
      "Permittee's Other Title             3239333\n",
      "HIC License                         3480297\n",
      "Site Safety Mgr's First Name        3484304\n",
      "Site Safety Mgr's Last Name         3484280\n",
      "Site Safety Mgr Business Name       3492970\n",
      "Superintendent First & Last Name    1817192\n",
      "Superintendent Business Name        1850003\n",
      "Owner's Business Type                164589\n",
      "Non-Profit                           160500\n",
      "Owner's Business Name                716216\n",
      "Owner's First Name                     1858\n",
      "Owner's Last Name                      1553\n",
      "Owner's House #                        1125\n",
      "Owner's House Street Name              1369\n",
      "Owner’s House City                      706\n",
      "Owner’s House State                     679\n",
      "Owner’s House Zip Code                 6175\n",
      "Owner's Phone #                       49040\n",
      "DOBRunDate                                0\n",
      "PERMIT_SI_NO                              0\n",
      "LATITUDE                              12285\n",
      "LONGITUDE                             12285\n",
      "COUNCIL_DISTRICT                      12285\n",
      "CENSUS_TRACT                          12285\n",
      "NTA_NAME                              12285\n",
      "dtype: int64\n"
     ]
    }
   ],
   "source": [
    "print (optimized_df.isnull().sum())"
   ]
  },
  {
   "cell_type": "code",
   "execution_count": 21,
   "metadata": {},
   "outputs": [
    {
     "data": {
      "text/plain": [
       "<matplotlib.axes._subplots.AxesSubplot at 0x1a47af2630>"
      ]
     },
     "execution_count": 21,
     "metadata": {},
     "output_type": "execute_result"
    },
    {
     "data": {
      "image/png": "[encoded data removed]",
      "text/plain": [
       "<Figure size 432x288 with 2 Axes>"
      ]
     },
     "metadata": {
      "needs_background": "light"
     },
     "output_type": "display_data"
    }
   ],
   "source": [
    "sns.heatmap(optimized_df.corr(), annot=True)"
   ]
  },
  {
   "cell_type": "markdown",
   "metadata": {},
   "source": [
    "As per the heatmap, we can see a high correlation between the job number and zip code. Lets try to plot this onto a map and check which areas in NYC request the highest number of permits"
   ]
  },
  {
   "cell_type": "markdown",
   "metadata": {},
   "source": [
    "We cannot plot a map on the basis of zipcodes. After looking at the datasets online I found a dataset on Open NYC that gives the boundaries of zip codes. source: https://data.cityofnewyork.us/Business/Zip-Code-Boundaries/i8iw-xf4u/data"
   ]
  },
  {
   "cell_type": "markdown",
   "metadata": {},
   "source": [
    "By using this dataset, I plan to merge it with the permit dataset. Will have to make changes to have a consistent column name"
   ]
  },
  {
   "cell_type": "code",
   "execution_count": 22,
   "metadata": {},
   "outputs": [],
   "source": [
    "from geopandas import GeoDataFrame\n",
    "zip_codes = GeoDataFrame.from_file('/Users/sonalijohari/Downloads/' + 'ZIP_CODE_040114/ZIP_CODE_040114.shp')"
   ]
  },
  {
   "cell_type": "code",
   "execution_count": 23,
   "metadata": {},
   "outputs": [
    {
     "name": "stdout",
     "output_type": "stream",
     "text": [
      "<class 'geopandas.geodataframe.GeoDataFrame'>\n",
      "RangeIndex: 263 entries, 0 to 262\n",
      "Data columns (total 13 columns):\n",
      "ZIPCODE       263 non-null object\n",
      "BLDGZIP       263 non-null object\n",
      "PO_NAME       263 non-null object\n",
      "POPULATION    263 non-null float64\n",
      "AREA          263 non-null float64\n",
      "STATE         263 non-null object\n",
      "COUNTY        263 non-null object\n",
      "ST_FIPS       263 non-null object\n",
      "CTY_FIPS      263 non-null object\n",
      "URL           263 non-null object\n",
      "SHAPE_AREA    263 non-null float64\n",
      "SHAPE_LEN     263 non-null float64\n",
      "geometry      263 non-null object\n",
      "dtypes: float64(4), object(9)\n",
      "memory usage: 26.8+ KB\n"
     ]
    }
   ],
   "source": [
    "zip_codes.info()"
   ]
  },
  {
   "cell_type": "markdown",
   "metadata": {},
   "source": [
    "We have a space in the column name of the permits dataset, so I will rename the column."
   ]
  },
  {
   "cell_type": "code",
   "execution_count": 24,
   "metadata": {},
   "outputs": [],
   "source": [
    "optimized_df = optimized_df.rename(columns={'Zip Code': 'zip_code'})"
   ]
  },
  {
   "cell_type": "code",
   "execution_count": 25,
   "metadata": {},
   "outputs": [
    {
     "data": {
      "text/plain": [
       "dtype('float32')"
      ]
     },
     "execution_count": 25,
     "metadata": {},
     "output_type": "execute_result"
    }
   ],
   "source": [
    "optimized_df.zip_code.dtype"
   ]
  },
  {
   "cell_type": "code",
   "execution_count": 26,
   "metadata": {},
   "outputs": [
    {
     "data": {
      "text/plain": [
       "dtype('O')"
      ]
     },
     "execution_count": 26,
     "metadata": {},
     "output_type": "execute_result"
    }
   ],
   "source": [
    "zip_codes.ZIPCODE.dtype"
   ]
  },
  {
   "cell_type": "markdown",
   "metadata": {},
   "source": [
    "Changing both the columns to int,"
   ]
  },
  {
   "cell_type": "markdown",
   "metadata": {},
   "source": [
    "Converting NAs to int will throw an error so converting them to 0s"
   ]
  },
  {
   "cell_type": "code",
   "execution_count": 27,
   "metadata": {},
   "outputs": [],
   "source": [
    "optimized_df['zip_code'].fillna(0, inplace=True)"
   ]
  },
  {
   "cell_type": "code",
   "execution_count": 28,
   "metadata": {},
   "outputs": [],
   "source": [
    "optimized_df['zip_code'] = optimized_df['zip_code'].astype(int)\n",
    "zip_codes['zip_code'] = zip_codes['ZIPCODE'].astype(int)"
   ]
  },
  {
   "cell_type": "code",
   "execution_count": 29,
   "metadata": {},
   "outputs": [],
   "source": [
    "counts = optimized_df['zip_code'].value_counts().to_frame(name='count')\n",
    "counts = counts.reset_index()\n",
    "counts = GeoDataFrame(counts.merge(zip_codes, how='left', left_on='index', right_on='zip_code'))"
   ]
  },
  {
   "cell_type": "code",
   "execution_count": 30,
   "metadata": {},
   "outputs": [
    {
     "data": {
      "image/png": "[encoded data removed]",
      "text/plain": [
       "<Figure size 576x576 with 1 Axes>"
      ]
     },
     "metadata": {
      "needs_background": "light"
     },
     "output_type": "display_data"
    }
   ],
   "source": [
    "fig, ax = plt.subplots(figsize = (8,8))\n",
    "\n",
    "counts.plot(column='count', cmap='Greys',alpha=1,linewidth=0.1, ax=ax)\n",
    "\n",
    "plt.title('Number of Building Permits by Zipcode')\n",
    "plt.axis('off')\n",
    "plt.show()"
   ]
  },
  {
   "cell_type": "markdown",
   "metadata": {},
   "source": [
    "Most of the permits seem to be concentrated in the manhattan region, so creating a map for manhattan will give us a better look"
   ]
  },
  {
   "cell_type": "code",
   "execution_count": 31,
   "metadata": {},
   "outputs": [],
   "source": [
    "manhattan_df = optimized_df.loc[optimized_df['BOROUGH'] == 'MANHATTAN']"
   ]
  },
  {
   "cell_type": "code",
   "execution_count": 32,
   "metadata": {},
   "outputs": [],
   "source": [
    "counts = manhattan_df['zip_code'].value_counts().to_frame(name='count')\n",
    "counts = counts.reset_index()\n",
    "counts = GeoDataFrame(counts.merge(zip_codes, how='left', left_on='index', right_on='zip_code'))"
   ]
  },
  {
   "cell_type": "code",
   "execution_count": 42,
   "metadata": {},
   "outputs": [
    {
     "data": {
      "image/png": "[encoded data removed]",
      "text/plain": [
       "<Figure size 936x936 with 1 Axes>"
      ]
     },
     "metadata": {
      "needs_background": "light"
     },
     "output_type": "display_data"
    }
   ],
   "source": [
    "fig, ax = plt.subplots(figsize = (13,13))\n",
    "\n",
    "counts.plot(column='count', cmap='Greys',alpha=1,linewidth=0.1, ax=ax)\n",
    "\n",
    "plt.title('Number of Building Permits by Zipcode')\n",
    "plt.axis('off')\n",
    "\n",
    "plt.show()"
   ]
  },
  {
   "cell_type": "markdown",
   "metadata": {},
   "source": [
    "Given the density of permits, I will keep a focus on my further analysis in Manhattan"
   ]
  },
  {
   "cell_type": "code",
   "execution_count": 34,
   "metadata": {},
   "outputs": [
    {
     "data": {
      "text/plain": [
       "8"
      ]
     },
     "execution_count": 34,
     "metadata": {},
     "output_type": "execute_result"
    }
   ],
   "source": [
    "manhattan_df['Permit Type'].nunique()"
   ]
  },
  {
   "cell_type": "code",
   "execution_count": 44,
   "metadata": {},
   "outputs": [],
   "source": [
    "manhattan_df = manhattan_df[manhattan_df.zip_code != 0] #getting rid of rows that have zip code = 0"
   ]
  },
  {
   "cell_type": "code",
   "execution_count": 45,
   "metadata": {},
   "outputs": [
    {
     "data": {
      "text/plain": [
       "10022"
      ]
     },
     "execution_count": 45,
     "metadata": {},
     "output_type": "execute_result"
    }
   ],
   "source": [
    "manhattan_df['zip_code'].value_counts().idxmax()"
   ]
  },
  {
   "cell_type": "markdown",
   "metadata": {},
   "source": [
    "Zip Code 10022 has the highest number of permits. Let's look for some trends in this region"
   ]
  },
  {
   "cell_type": "code",
   "execution_count": 70,
   "metadata": {},
   "outputs": [],
   "source": [
    "#What type of jobs are generally carried out in this region\n",
    "df_10022 = manhattan_df.loc[manhattan_df['zip_code'] == 10022]"
   ]
  },
  {
   "cell_type": "code",
   "execution_count": 71,
   "metadata": {},
   "outputs": [],
   "source": [
    "df_10022['Permit Type'] = df_10022['Permit Type'].map({'EW': 'Equipment Work', 'PL': 'Plumbing',\n",
    "                                            'EQ': 'Construction Equipment', 'AL': 'Alteration',\n",
    "                                            'NB': 'New Building', 'FO': 'Foundation',\n",
    "                                            'SG': 'Sign', 'DM': 'Demolition'}) \n"
   ]
  },
  {
   "cell_type": "code",
   "execution_count": 102,
   "metadata": {},
   "outputs": [
    {
     "data": {
      "image/png": "[encoded data removed]",
      "text/plain": [
       "<Figure size 1008x504 with 1 Axes>"
      ]
     },
     "metadata": {
      "needs_background": "light"
     },
     "output_type": "display_data"
    }
   ],
   "source": [
    "fig = plt.figure(figsize=(14,7))\n",
    "\n",
    "manhattan_df['Permit Type'].value_counts().plot(kind='bar')\n",
    "\n",
    "plt.title('Construction Jobs popular in 10022', size=14)\n",
    "plt.ylabel('Count', size=12)\n",
    "plt.xticks(rotation='horizontal')\n",
    "plt.show()"
   ]
  },
  {
   "cell_type": "code",
   "execution_count": 75,
   "metadata": {},
   "outputs": [],
   "source": [
    "df_10022['Issuance Date'] = pd.to_datetime(df_10022['Issuance Date'])\n"
   ]
  },
  {
   "cell_type": "code",
   "execution_count": 76,
   "metadata": {},
   "outputs": [],
   "source": [
    "df_10022['year'], df_10022['month'] = df_10022['Issuance Date'].dt.year, df_10022['Issuance Date'].dt.month"
   ]
  },
  {
   "cell_type": "code",
   "execution_count": 87,
   "metadata": {},
   "outputs": [],
   "source": [
    "df_10022 = df_10022 [df_10022.year != 0]\n",
    "\n",
    "df_10022['year'] = manhattan_df['year'].astype(int)\n",
    "df_10022['month'] = manhattan_df['month'].astype(int)"
   ]
  },
  {
   "cell_type": "code",
   "execution_count": 88,
   "metadata": {},
   "outputs": [
    {
     "data": {
      "text/plain": [
       "<matplotlib.axes._subplots.AxesSubplot at 0x1a3a957da0>"
      ]
     },
     "execution_count": 88,
     "metadata": {},
     "output_type": "execute_result"
    },
    {
     "data": {
      "image/png": "[encoded data removed]",
      "text/plain": [
       "<Figure size 432x288 with 1 Axes>"
      ]
     },
     "metadata": {
      "needs_background": "light"
     },
     "output_type": "display_data"
    }
   ],
   "source": [
    "pd.value_counts(df_10022['month']).plot.bar()"
   ]
  },
  {
   "cell_type": "markdown",
   "metadata": {},
   "source": [
    "The zero seems to be the rows where the date has not been specified. "
   ]
  },
  {
   "cell_type": "markdown",
   "metadata": {},
   "source": [
    "We can see that the permits issued in March is considerably higher than issued in February. This could be possible due to the cold temperatures and snowfall in NYC during the month of Feb"
   ]
  },
  {
   "cell_type": "code",
   "execution_count": 89,
   "metadata": {},
   "outputs": [
    {
     "data": {
      "image/png": "[encoded data removed]",
      "text/plain": [
       "<Figure size 432x288 with 1 Axes>"
      ]
     },
     "metadata": {
      "needs_background": "light"
     },
     "output_type": "display_data"
    }
   ],
   "source": [
    "df_10022['year'].value_counts().sort_index().plot(kind='bar') #sorting index so data is in order by year\n",
    "\n",
    "#Plotting the data\n",
    "plt.title('Building Permits Issued per Year', size=14)\n",
    "plt.xlabel('Year', size=12)\n",
    "plt.xlim(25,31)\n",
    "plt.ylabel('Count', size=12)\n",
    "plt.ylim(0,5000)\n",
    "plt.xticks(rotation='horizontal')\n",
    "plt.show()"
   ]
  },
  {
   "cell_type": "markdown",
   "metadata": {},
   "source": [
    "We can now see that the number of permits issued in the last 5 years are less than 5000, with the highest being in 2016 and 2017. Midtown East is one of the best developed regions of NYC, therefore we can say that the above map is the indicator of the cumulative development over the past 30 years. "
   ]
  },
  {
   "cell_type": "code",
   "execution_count": 105,
   "metadata": {},
   "outputs": [
    {
     "data": {
      "text/plain": [
       "array([2019, 2018, 2017, 2016, 2015, 2014, 2013, 2012, 2011, 2010, 2009,\n",
       "       2008, 2007, 2006, 2005, 2004, 2003, 2002, 2001, 2000, 1999, 1998,\n",
       "       1997, 1996, 1995, 1994, 1993, 1992, 1991, 1990,    0])"
      ]
     },
     "execution_count": 105,
     "metadata": {},
     "output_type": "execute_result"
    }
   ],
   "source": [
    "manhattan_df.year.unique()"
   ]
  },
  {
   "cell_type": "code",
   "execution_count": null,
   "metadata": {},
   "outputs": [],
   "source": []
  }
 ],
 "metadata": {
  "kernelspec": {
   "display_name": "Python 3",
   "language": "python",
   "name": "python3"
  },
  "language_info": {
   "codemirror_mode": {
    "name": "ipython",
    "version": 3
   },
   "file_extension": ".py",
   "mimetype": "text/x-python",
   "name": "python",
   "nbconvert_exporter": "python",
   "pygments_lexer": "ipython3",
   "version": "3.7.1"
  }
 },
 "nbformat": 4,
 "nbformat_minor": 2
}
